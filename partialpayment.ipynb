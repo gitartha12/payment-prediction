{
 "cells": [
  {
   "cell_type": "markdown",
   "metadata": {},
   "source": [
    "## importing necessary libraries and the dataset"
   ]
  },
  {
   "cell_type": "code",
   "execution_count": 1,
   "metadata": {},
   "outputs": [],
   "source": [
    "import pandas as pd\n",
    "import numpy as np\n",
    "import matplotlib.pyplot as plt\n",
    "\n",
    "\n",
    "from sklearn.model_selection import train_test_split\n",
    "\n",
    "\n",
    "\n",
    "from mlxtend.feature_selection import SequentialFeatureSelector as SFS\n",
    "from mlxtend.feature_selection import ExhaustiveFeatureSelector as EFS\n",
    "from sklearn.feature_selection import RFE\n",
    "from sklearn.metrics import r2_score\n"
   ]
  },
  {
   "cell_type": "code",
   "execution_count": 2,
   "metadata": {},
   "outputs": [
    {
     "data": {
      "text/html": [
       "<div>\n",
       "<style scoped>\n",
       "    .dataframe tbody tr th:only-of-type {\n",
       "        vertical-align: middle;\n",
       "    }\n",
       "\n",
       "    .dataframe tbody tr th {\n",
       "        vertical-align: top;\n",
       "    }\n",
       "\n",
       "    .dataframe thead th {\n",
       "        text-align: right;\n",
       "    }\n",
       "</style>\n",
       "<table border=\"1\" class=\"dataframe\">\n",
       "  <thead>\n",
       "    <tr style=\"text-align: right;\">\n",
       "      <th></th>\n",
       "      <th>acct_doc_header_id</th>\n",
       "      <th>company_id</th>\n",
       "      <th>doc_number</th>\n",
       "      <th>doc_number_norm</th>\n",
       "      <th>business_code</th>\n",
       "      <th>create_year</th>\n",
       "      <th>document_line_number</th>\n",
       "      <th>document_type</th>\n",
       "      <th>cust_number</th>\n",
       "      <th>cust_number_norm</th>\n",
       "      <th>...</th>\n",
       "      <th>debit_credit_status</th>\n",
       "      <th>payment_method</th>\n",
       "      <th>document_create_date.1</th>\n",
       "      <th>invoice_currency</th>\n",
       "      <th>doc_id</th>\n",
       "      <th>actual_outstanding_amount</th>\n",
       "      <th>payment_amount</th>\n",
       "      <th>days_past_duedate</th>\n",
       "      <th>age_invoice</th>\n",
       "      <th>dispute_amount</th>\n",
       "    </tr>\n",
       "  </thead>\n",
       "  <tbody>\n",
       "    <tr>\n",
       "      <th>0</th>\n",
       "      <td>538531572</td>\n",
       "      <td>60</td>\n",
       "      <td>38508548</td>\n",
       "      <td>38508548</td>\n",
       "      <td>Piat8</td>\n",
       "      <td>NaN</td>\n",
       "      <td>NaN</td>\n",
       "      <td>RI</td>\n",
       "      <td>219001</td>\n",
       "      <td>219001</td>\n",
       "      <td>...</td>\n",
       "      <td>NaN</td>\n",
       "      <td>NaN</td>\n",
       "      <td>NaN</td>\n",
       "      <td>4712.85</td>\n",
       "      <td>538531572</td>\n",
       "      <td>4712.85</td>\n",
       "      <td>4712.85</td>\n",
       "      <td>4</td>\n",
       "      <td>64</td>\n",
       "      <td>NaN</td>\n",
       "    </tr>\n",
       "    <tr>\n",
       "      <th>1</th>\n",
       "      <td>538021535</td>\n",
       "      <td>60</td>\n",
       "      <td>37717934</td>\n",
       "      <td>37717934</td>\n",
       "      <td>ABes3</td>\n",
       "      <td>NaN</td>\n",
       "      <td>NaN</td>\n",
       "      <td>RI</td>\n",
       "      <td>226547</td>\n",
       "      <td>226547</td>\n",
       "      <td>...</td>\n",
       "      <td>NaN</td>\n",
       "      <td>NaN</td>\n",
       "      <td>NaN</td>\n",
       "      <td>16135.84</td>\n",
       "      <td>538021535</td>\n",
       "      <td>16135.84</td>\n",
       "      <td>16135.84</td>\n",
       "      <td>7</td>\n",
       "      <td>67</td>\n",
       "      <td>NaN</td>\n",
       "    </tr>\n",
       "    <tr>\n",
       "      <th>2</th>\n",
       "      <td>533610329</td>\n",
       "      <td>60</td>\n",
       "      <td>31221060</td>\n",
       "      <td>31221060</td>\n",
       "      <td>cvrp1</td>\n",
       "      <td>NaN</td>\n",
       "      <td>NaN</td>\n",
       "      <td>RI</td>\n",
       "      <td>228089</td>\n",
       "      <td>228089</td>\n",
       "      <td>...</td>\n",
       "      <td>NaN</td>\n",
       "      <td>NaN</td>\n",
       "      <td>NaN</td>\n",
       "      <td>609.69</td>\n",
       "      <td>533610329</td>\n",
       "      <td>609.69</td>\n",
       "      <td>609.69</td>\n",
       "      <td>-2</td>\n",
       "      <td>58</td>\n",
       "      <td>NaN</td>\n",
       "    </tr>\n",
       "    <tr>\n",
       "      <th>3</th>\n",
       "      <td>533861532</td>\n",
       "      <td>60</td>\n",
       "      <td>31618228</td>\n",
       "      <td>31618228</td>\n",
       "      <td>deer10</td>\n",
       "      <td>NaN</td>\n",
       "      <td>NaN</td>\n",
       "      <td>RI</td>\n",
       "      <td>228078</td>\n",
       "      <td>228078</td>\n",
       "      <td>...</td>\n",
       "      <td>NaN</td>\n",
       "      <td>NaN</td>\n",
       "      <td>NaN</td>\n",
       "      <td>6435.82</td>\n",
       "      <td>533861532</td>\n",
       "      <td>6435.82</td>\n",
       "      <td>6435.82</td>\n",
       "      <td>0</td>\n",
       "      <td>60</td>\n",
       "      <td>NaN</td>\n",
       "    </tr>\n",
       "    <tr>\n",
       "      <th>4</th>\n",
       "      <td>535303724</td>\n",
       "      <td>60</td>\n",
       "      <td>32824039</td>\n",
       "      <td>32824039</td>\n",
       "      <td>avto3</td>\n",
       "      <td>NaN</td>\n",
       "      <td>NaN</td>\n",
       "      <td>RI</td>\n",
       "      <td>219000</td>\n",
       "      <td>219000</td>\n",
       "      <td>...</td>\n",
       "      <td>NaN</td>\n",
       "      <td>NaN</td>\n",
       "      <td>NaN</td>\n",
       "      <td>1599.98</td>\n",
       "      <td>535303724</td>\n",
       "      <td>1599.98</td>\n",
       "      <td>1599.98</td>\n",
       "      <td>8</td>\n",
       "      <td>68</td>\n",
       "      <td>NaN</td>\n",
       "    </tr>\n",
       "  </tbody>\n",
       "</table>\n",
       "<p>5 rows × 47 columns</p>\n",
       "</div>"
      ],
      "text/plain": [
       "   acct_doc_header_id  company_id  doc_number  doc_number_norm business_code  \\\n",
       "0           538531572          60    38508548         38508548         Piat8   \n",
       "1           538021535          60    37717934         37717934         ABes3   \n",
       "2           533610329          60    31221060         31221060         cvrp1   \n",
       "3           533861532          60    31618228         31618228        deer10   \n",
       "4           535303724          60    32824039         32824039         avto3   \n",
       "\n",
       "   create_year  document_line_number document_type  cust_number  \\\n",
       "0          NaN                   NaN            RI       219001   \n",
       "1          NaN                   NaN            RI       226547   \n",
       "2          NaN                   NaN            RI       228089   \n",
       "3          NaN                   NaN            RI       228078   \n",
       "4          NaN                   NaN            RI       219000   \n",
       "\n",
       "   cust_number_norm  ...  debit_credit_status payment_method  \\\n",
       "0            219001  ...                  NaN            NaN   \n",
       "1            226547  ...                  NaN            NaN   \n",
       "2            228089  ...                  NaN            NaN   \n",
       "3            228078  ...                  NaN            NaN   \n",
       "4            219000  ...                  NaN            NaN   \n",
       "\n",
       "   document_create_date.1 invoice_currency     doc_id  \\\n",
       "0                     NaN          4712.85  538531572   \n",
       "1                     NaN         16135.84  538021535   \n",
       "2                     NaN           609.69  533610329   \n",
       "3                     NaN          6435.82  533861532   \n",
       "4                     NaN          1599.98  535303724   \n",
       "\n",
       "   actual_outstanding_amount  payment_amount  days_past_duedate  age_invoice  \\\n",
       "0                    4712.85         4712.85                  4           64   \n",
       "1                   16135.84        16135.84                  7           67   \n",
       "2                     609.69          609.69                 -2           58   \n",
       "3                    6435.82         6435.82                  0           60   \n",
       "4                    1599.98         1599.98                  8           68   \n",
       "\n",
       "   dispute_amount  \n",
       "0             NaN  \n",
       "1             NaN  \n",
       "2             NaN  \n",
       "3             NaN  \n",
       "4             NaN  \n",
       "\n",
       "[5 rows x 47 columns]"
      ]
     },
     "execution_count": 2,
     "metadata": {},
     "output_type": "execute_result"
    }
   ],
   "source": [
    "df=pd.read_csv('Rome_1706413.csv')\n",
    "df.head()"
   ]
  },
  {
   "cell_type": "markdown",
   "metadata": {},
   "source": [
    "## Splitting the data into Train and final test set as per instructions"
   ]
  },
  {
   "cell_type": "code",
   "execution_count": 3,
   "metadata": {},
   "outputs": [],
   "source": [
    "df1=df[df.clear_date_norm.notnull()]\n",
    "y=df[df.clear_date_norm.isnull()]"
   ]
  },
  {
   "cell_type": "code",
   "execution_count": 4,
   "metadata": {},
   "outputs": [
    {
     "data": {
      "text/html": [
       "<div>\n",
       "<style scoped>\n",
       "    .dataframe tbody tr th:only-of-type {\n",
       "        vertical-align: middle;\n",
       "    }\n",
       "\n",
       "    .dataframe tbody tr th {\n",
       "        vertical-align: top;\n",
       "    }\n",
       "\n",
       "    .dataframe thead th {\n",
       "        text-align: right;\n",
       "    }\n",
       "</style>\n",
       "<table border=\"1\" class=\"dataframe\">\n",
       "  <thead>\n",
       "    <tr style=\"text-align: right;\">\n",
       "      <th></th>\n",
       "      <th>acct_doc_header_id</th>\n",
       "      <th>company_id</th>\n",
       "      <th>doc_number</th>\n",
       "      <th>doc_number_norm</th>\n",
       "      <th>business_code</th>\n",
       "      <th>create_year</th>\n",
       "      <th>document_line_number</th>\n",
       "      <th>document_type</th>\n",
       "      <th>cust_number</th>\n",
       "      <th>cust_number_norm</th>\n",
       "      <th>...</th>\n",
       "      <th>debit_credit_status</th>\n",
       "      <th>payment_method</th>\n",
       "      <th>document_create_date.1</th>\n",
       "      <th>invoice_currency</th>\n",
       "      <th>doc_id</th>\n",
       "      <th>actual_outstanding_amount</th>\n",
       "      <th>payment_amount</th>\n",
       "      <th>days_past_duedate</th>\n",
       "      <th>age_invoice</th>\n",
       "      <th>dispute_amount</th>\n",
       "    </tr>\n",
       "  </thead>\n",
       "  <tbody>\n",
       "    <tr>\n",
       "      <th>0</th>\n",
       "      <td>538531572</td>\n",
       "      <td>60</td>\n",
       "      <td>38508548</td>\n",
       "      <td>38508548</td>\n",
       "      <td>Piat8</td>\n",
       "      <td>NaN</td>\n",
       "      <td>NaN</td>\n",
       "      <td>RI</td>\n",
       "      <td>219001</td>\n",
       "      <td>219001</td>\n",
       "      <td>...</td>\n",
       "      <td>NaN</td>\n",
       "      <td>NaN</td>\n",
       "      <td>NaN</td>\n",
       "      <td>4712.85</td>\n",
       "      <td>538531572</td>\n",
       "      <td>4712.85</td>\n",
       "      <td>4712.85</td>\n",
       "      <td>4</td>\n",
       "      <td>64</td>\n",
       "      <td>NaN</td>\n",
       "    </tr>\n",
       "    <tr>\n",
       "      <th>1</th>\n",
       "      <td>538021535</td>\n",
       "      <td>60</td>\n",
       "      <td>37717934</td>\n",
       "      <td>37717934</td>\n",
       "      <td>ABes3</td>\n",
       "      <td>NaN</td>\n",
       "      <td>NaN</td>\n",
       "      <td>RI</td>\n",
       "      <td>226547</td>\n",
       "      <td>226547</td>\n",
       "      <td>...</td>\n",
       "      <td>NaN</td>\n",
       "      <td>NaN</td>\n",
       "      <td>NaN</td>\n",
       "      <td>16135.84</td>\n",
       "      <td>538021535</td>\n",
       "      <td>16135.84</td>\n",
       "      <td>16135.84</td>\n",
       "      <td>7</td>\n",
       "      <td>67</td>\n",
       "      <td>NaN</td>\n",
       "    </tr>\n",
       "    <tr>\n",
       "      <th>2</th>\n",
       "      <td>533610329</td>\n",
       "      <td>60</td>\n",
       "      <td>31221060</td>\n",
       "      <td>31221060</td>\n",
       "      <td>cvrp1</td>\n",
       "      <td>NaN</td>\n",
       "      <td>NaN</td>\n",
       "      <td>RI</td>\n",
       "      <td>228089</td>\n",
       "      <td>228089</td>\n",
       "      <td>...</td>\n",
       "      <td>NaN</td>\n",
       "      <td>NaN</td>\n",
       "      <td>NaN</td>\n",
       "      <td>609.69</td>\n",
       "      <td>533610329</td>\n",
       "      <td>609.69</td>\n",
       "      <td>609.69</td>\n",
       "      <td>-2</td>\n",
       "      <td>58</td>\n",
       "      <td>NaN</td>\n",
       "    </tr>\n",
       "    <tr>\n",
       "      <th>3</th>\n",
       "      <td>533861532</td>\n",
       "      <td>60</td>\n",
       "      <td>31618228</td>\n",
       "      <td>31618228</td>\n",
       "      <td>deer10</td>\n",
       "      <td>NaN</td>\n",
       "      <td>NaN</td>\n",
       "      <td>RI</td>\n",
       "      <td>228078</td>\n",
       "      <td>228078</td>\n",
       "      <td>...</td>\n",
       "      <td>NaN</td>\n",
       "      <td>NaN</td>\n",
       "      <td>NaN</td>\n",
       "      <td>6435.82</td>\n",
       "      <td>533861532</td>\n",
       "      <td>6435.82</td>\n",
       "      <td>6435.82</td>\n",
       "      <td>0</td>\n",
       "      <td>60</td>\n",
       "      <td>NaN</td>\n",
       "    </tr>\n",
       "    <tr>\n",
       "      <th>4</th>\n",
       "      <td>535303724</td>\n",
       "      <td>60</td>\n",
       "      <td>32824039</td>\n",
       "      <td>32824039</td>\n",
       "      <td>avto3</td>\n",
       "      <td>NaN</td>\n",
       "      <td>NaN</td>\n",
       "      <td>RI</td>\n",
       "      <td>219000</td>\n",
       "      <td>219000</td>\n",
       "      <td>...</td>\n",
       "      <td>NaN</td>\n",
       "      <td>NaN</td>\n",
       "      <td>NaN</td>\n",
       "      <td>1599.98</td>\n",
       "      <td>535303724</td>\n",
       "      <td>1599.98</td>\n",
       "      <td>1599.98</td>\n",
       "      <td>8</td>\n",
       "      <td>68</td>\n",
       "      <td>NaN</td>\n",
       "    </tr>\n",
       "  </tbody>\n",
       "</table>\n",
       "<p>5 rows × 47 columns</p>\n",
       "</div>"
      ],
      "text/plain": [
       "   acct_doc_header_id  company_id  doc_number  doc_number_norm business_code  \\\n",
       "0           538531572          60    38508548         38508548         Piat8   \n",
       "1           538021535          60    37717934         37717934         ABes3   \n",
       "2           533610329          60    31221060         31221060         cvrp1   \n",
       "3           533861532          60    31618228         31618228        deer10   \n",
       "4           535303724          60    32824039         32824039         avto3   \n",
       "\n",
       "   create_year  document_line_number document_type  cust_number  \\\n",
       "0          NaN                   NaN            RI       219001   \n",
       "1          NaN                   NaN            RI       226547   \n",
       "2          NaN                   NaN            RI       228089   \n",
       "3          NaN                   NaN            RI       228078   \n",
       "4          NaN                   NaN            RI       219000   \n",
       "\n",
       "   cust_number_norm  ...  debit_credit_status payment_method  \\\n",
       "0            219001  ...                  NaN            NaN   \n",
       "1            226547  ...                  NaN            NaN   \n",
       "2            228089  ...                  NaN            NaN   \n",
       "3            228078  ...                  NaN            NaN   \n",
       "4            219000  ...                  NaN            NaN   \n",
       "\n",
       "   document_create_date.1 invoice_currency     doc_id  \\\n",
       "0                     NaN          4712.85  538531572   \n",
       "1                     NaN         16135.84  538021535   \n",
       "2                     NaN           609.69  533610329   \n",
       "3                     NaN          6435.82  533861532   \n",
       "4                     NaN          1599.98  535303724   \n",
       "\n",
       "   actual_outstanding_amount  payment_amount  days_past_duedate  age_invoice  \\\n",
       "0                    4712.85         4712.85                  4           64   \n",
       "1                   16135.84        16135.84                  7           67   \n",
       "2                     609.69          609.69                 -2           58   \n",
       "3                    6435.82         6435.82                  0           60   \n",
       "4                    1599.98         1599.98                  8           68   \n",
       "\n",
       "   dispute_amount  \n",
       "0             NaN  \n",
       "1             NaN  \n",
       "2             NaN  \n",
       "3             NaN  \n",
       "4             NaN  \n",
       "\n",
       "[5 rows x 47 columns]"
      ]
     },
     "execution_count": 4,
     "metadata": {},
     "output_type": "execute_result"
    }
   ],
   "source": [
    "df1.head()"
   ]
  },
  {
   "cell_type": "markdown",
   "metadata": {},
   "source": [
    "# Preprocessing\n",
    "Droping all the null columns and finding missing data"
   ]
  },
  {
   "cell_type": "code",
   "execution_count": 5,
   "metadata": {},
   "outputs": [
    {
     "name": "stdout",
     "output_type": "stream",
     "text": [
      "Total count of columns with all null values: 18\n",
      "['create_year', 'document_line_number', 'division', 'posting_date', 'posting_date_norm', 'posting_id', 'due_in_date', 'due_in_date_norm', 'order_create_date', 'order_date_norm', 'area_business', 'shipping_to', 'reason_code', 'discount_due_date_norm', 'debit_credit_status', 'payment_method', 'document_create_date.1', 'dispute_amount']\n"
     ]
    }
   ],
   "source": [
    "#Counting all the null columns \n",
    "c=0\n",
    "nan_cols = [i for i in df1.columns if df1[i].isnull().all()]\n",
    "for i in nan_cols:\n",
    "    c=c+1\n",
    "print(\"Total count of columns with all null values:\",+c,end='\\n')\n",
    "print(nan_cols)"
   ]
  },
  {
   "cell_type": "code",
   "execution_count": 6,
   "metadata": {},
   "outputs": [],
   "source": [
    "#removing all the 18 null columns\n",
    "df1=df1.dropna(axis=1,how='all')"
   ]
  },
  {
   "cell_type": "code",
   "execution_count": 7,
   "metadata": {},
   "outputs": [
    {
     "data": {
      "text/plain": [
       "acct_doc_header_id           0.000\n",
       "company_id                   0.000\n",
       "doc_number                   0.000\n",
       "doc_number_norm              0.000\n",
       "business_code                0.000\n",
       "document_type                0.000\n",
       "cust_number                  0.000\n",
       "cust_number_norm             0.000\n",
       "customer_map_id              0.000\n",
       "name_customer                0.000\n",
       "document_create_date         0.000\n",
       "document_create_date_norm    0.000\n",
       "invoice_id                   0.000\n",
       "invoice_id_norm              0.000\n",
       "baseline_create_date         0.789\n",
       "invoice_date_norm            0.789\n",
       "total_open_amount            0.000\n",
       "total_open_amount_norm       0.000\n",
       "cust_payment_terms           0.000\n",
       "shipping_date                0.789\n",
       "clear_date                   0.000\n",
       "clear_date_norm              0.000\n",
       "is_open_invoice              0.000\n",
       "invoice_currency             0.000\n",
       "doc_id                       0.000\n",
       "actual_outstanding_amount    0.000\n",
       "payment_amount               0.000\n",
       "days_past_duedate            0.000\n",
       "age_invoice                  0.000\n",
       "dtype: float64"
      ]
     },
     "execution_count": 7,
     "metadata": {},
     "output_type": "execute_result"
    }
   ],
   "source": [
    "# to visualise the percentage of\n",
    "# missing values for each variable\n",
    "df1.isnull().mean()"
   ]
  },
  {
   "cell_type": "markdown",
   "metadata": {},
   "source": [
    "### Note\n",
    "Few columns has almost 78% of missing data so removing that columns wont effect \n",
    "the results much."
   ]
  },
  {
   "cell_type": "code",
   "execution_count": 8,
   "metadata": {},
   "outputs": [],
   "source": [
    "df1=df1.drop(columns=['shipping_date','baseline_create_date','invoice_date_norm'])"
   ]
  },
  {
   "cell_type": "markdown",
   "metadata": {},
   "source": [
    "### Droping one of the columns out of the two similar columns"
   ]
  },
  {
   "cell_type": "code",
   "execution_count": 9,
   "metadata": {},
   "outputs": [
    {
     "name": "stdout",
     "output_type": "stream",
     "text": [
      "45000\n",
      "45000\n",
      "45000\n",
      "45000\n",
      "45000\n"
     ]
    }
   ],
   "source": [
    "comparison_column = np.where(df1[\"doc_number\"] == df1[\"doc_number_norm\"], True, False)\n",
    "comp = np.where(df1[\"cust_number\"] == df1[\"cust_number_norm\"], True, False)\n",
    "com = np.where(df1[\"total_open_amount\"] == df1[\"total_open_amount_norm\"], True, False)\n",
    "co = np.where(df1[\"invoice_id\"] == df1[\"invoice_id_norm\"], True, False)\n",
    "c1 = np.where(df1[\"clear_date\"] == df1[\"clear_date_norm\"], True, False)\n",
    "#count is same as total rows so both has same values\n",
    "true_count = sum(comparison_column)\n",
    "print(true_count)\n",
    "true_count = sum(comp)\n",
    "print(true_count)\n",
    "true_count = sum(com)\n",
    "print(true_count)\n",
    "true_count = sum(co)\n",
    "print(true_count)\n",
    "true_count=sum(c1)\n",
    "print(true_count)"
   ]
  },
  {
   "cell_type": "code",
   "execution_count": 10,
   "metadata": {},
   "outputs": [
    {
     "data": {
      "text/html": [
       "<div>\n",
       "<style scoped>\n",
       "    .dataframe tbody tr th:only-of-type {\n",
       "        vertical-align: middle;\n",
       "    }\n",
       "\n",
       "    .dataframe tbody tr th {\n",
       "        vertical-align: top;\n",
       "    }\n",
       "\n",
       "    .dataframe thead th {\n",
       "        text-align: right;\n",
       "    }\n",
       "</style>\n",
       "<table border=\"1\" class=\"dataframe\">\n",
       "  <thead>\n",
       "    <tr style=\"text-align: right;\">\n",
       "      <th></th>\n",
       "      <th>acct_doc_header_id</th>\n",
       "      <th>company_id</th>\n",
       "      <th>doc_number</th>\n",
       "      <th>business_code</th>\n",
       "      <th>document_type</th>\n",
       "      <th>cust_number</th>\n",
       "      <th>customer_map_id</th>\n",
       "      <th>name_customer</th>\n",
       "      <th>document_create_date</th>\n",
       "      <th>invoice_id</th>\n",
       "      <th>total_open_amount</th>\n",
       "      <th>cust_payment_terms</th>\n",
       "      <th>clear_date</th>\n",
       "      <th>is_open_invoice</th>\n",
       "      <th>invoice_currency</th>\n",
       "      <th>doc_id</th>\n",
       "      <th>actual_outstanding_amount</th>\n",
       "      <th>payment_amount</th>\n",
       "      <th>days_past_duedate</th>\n",
       "      <th>age_invoice</th>\n",
       "    </tr>\n",
       "  </thead>\n",
       "  <tbody>\n",
       "    <tr>\n",
       "      <th>0</th>\n",
       "      <td>538531572</td>\n",
       "      <td>60</td>\n",
       "      <td>38508548</td>\n",
       "      <td>Piat8</td>\n",
       "      <td>RI</td>\n",
       "      <td>219001</td>\n",
       "      <td>-1</td>\n",
       "      <td>PiperChat</td>\n",
       "      <td>2018-05-25</td>\n",
       "      <td>38508548</td>\n",
       "      <td>0.0</td>\n",
       "      <td>60</td>\n",
       "      <td>2018-07-28</td>\n",
       "      <td>0</td>\n",
       "      <td>4712.85</td>\n",
       "      <td>538531572</td>\n",
       "      <td>4712.85</td>\n",
       "      <td>4712.85</td>\n",
       "      <td>4</td>\n",
       "      <td>64</td>\n",
       "    </tr>\n",
       "    <tr>\n",
       "      <th>1</th>\n",
       "      <td>538021535</td>\n",
       "      <td>60</td>\n",
       "      <td>37717934</td>\n",
       "      <td>ABes3</td>\n",
       "      <td>RI</td>\n",
       "      <td>226547</td>\n",
       "      <td>-1</td>\n",
       "      <td>ABC Softwares</td>\n",
       "      <td>2018-04-27</td>\n",
       "      <td>37717934</td>\n",
       "      <td>0.0</td>\n",
       "      <td>60</td>\n",
       "      <td>2018-07-03</td>\n",
       "      <td>0</td>\n",
       "      <td>16135.84</td>\n",
       "      <td>538021535</td>\n",
       "      <td>16135.84</td>\n",
       "      <td>16135.84</td>\n",
       "      <td>7</td>\n",
       "      <td>67</td>\n",
       "    </tr>\n",
       "    <tr>\n",
       "      <th>2</th>\n",
       "      <td>533610329</td>\n",
       "      <td>60</td>\n",
       "      <td>31221060</td>\n",
       "      <td>cvrp1</td>\n",
       "      <td>RI</td>\n",
       "      <td>228089</td>\n",
       "      <td>-1</td>\n",
       "      <td>cvMaker corp</td>\n",
       "      <td>2017-09-20</td>\n",
       "      <td>31221060</td>\n",
       "      <td>0.0</td>\n",
       "      <td>60</td>\n",
       "      <td>2017-11-17</td>\n",
       "      <td>0</td>\n",
       "      <td>609.69</td>\n",
       "      <td>533610329</td>\n",
       "      <td>609.69</td>\n",
       "      <td>609.69</td>\n",
       "      <td>-2</td>\n",
       "      <td>58</td>\n",
       "    </tr>\n",
       "    <tr>\n",
       "      <th>3</th>\n",
       "      <td>533861532</td>\n",
       "      <td>60</td>\n",
       "      <td>31618228</td>\n",
       "      <td>deer10</td>\n",
       "      <td>RI</td>\n",
       "      <td>228078</td>\n",
       "      <td>-1</td>\n",
       "      <td>deep scraper</td>\n",
       "      <td>2017-10-03</td>\n",
       "      <td>31618228</td>\n",
       "      <td>0.0</td>\n",
       "      <td>60</td>\n",
       "      <td>2017-12-02</td>\n",
       "      <td>0</td>\n",
       "      <td>6435.82</td>\n",
       "      <td>533861532</td>\n",
       "      <td>6435.82</td>\n",
       "      <td>6435.82</td>\n",
       "      <td>0</td>\n",
       "      <td>60</td>\n",
       "    </tr>\n",
       "    <tr>\n",
       "      <th>4</th>\n",
       "      <td>535303724</td>\n",
       "      <td>60</td>\n",
       "      <td>32824039</td>\n",
       "      <td>avto3</td>\n",
       "      <td>RI</td>\n",
       "      <td>219000</td>\n",
       "      <td>-1</td>\n",
       "      <td>aviato</td>\n",
       "      <td>2017-11-08</td>\n",
       "      <td>32824039</td>\n",
       "      <td>0.0</td>\n",
       "      <td>60</td>\n",
       "      <td>2018-01-15</td>\n",
       "      <td>0</td>\n",
       "      <td>1599.98</td>\n",
       "      <td>535303724</td>\n",
       "      <td>1599.98</td>\n",
       "      <td>1599.98</td>\n",
       "      <td>8</td>\n",
       "      <td>68</td>\n",
       "    </tr>\n",
       "  </tbody>\n",
       "</table>\n",
       "</div>"
      ],
      "text/plain": [
       "   acct_doc_header_id  company_id  doc_number business_code document_type  \\\n",
       "0           538531572          60    38508548         Piat8            RI   \n",
       "1           538021535          60    37717934         ABes3            RI   \n",
       "2           533610329          60    31221060         cvrp1            RI   \n",
       "3           533861532          60    31618228        deer10            RI   \n",
       "4           535303724          60    32824039         avto3            RI   \n",
       "\n",
       "   cust_number  customer_map_id  name_customer document_create_date  \\\n",
       "0       219001               -1      PiperChat           2018-05-25   \n",
       "1       226547               -1  ABC Softwares           2018-04-27   \n",
       "2       228089               -1   cvMaker corp           2017-09-20   \n",
       "3       228078               -1   deep scraper           2017-10-03   \n",
       "4       219000               -1         aviato           2017-11-08   \n",
       "\n",
       "   invoice_id  total_open_amount  cust_payment_terms  clear_date  \\\n",
       "0    38508548                0.0                  60  2018-07-28   \n",
       "1    37717934                0.0                  60  2018-07-03   \n",
       "2    31221060                0.0                  60  2017-11-17   \n",
       "3    31618228                0.0                  60  2017-12-02   \n",
       "4    32824039                0.0                  60  2018-01-15   \n",
       "\n",
       "   is_open_invoice  invoice_currency     doc_id  actual_outstanding_amount  \\\n",
       "0                0           4712.85  538531572                    4712.85   \n",
       "1                0          16135.84  538021535                   16135.84   \n",
       "2                0            609.69  533610329                     609.69   \n",
       "3                0           6435.82  533861532                    6435.82   \n",
       "4                0           1599.98  535303724                    1599.98   \n",
       "\n",
       "   payment_amount  days_past_duedate  age_invoice  \n",
       "0         4712.85                  4           64  \n",
       "1        16135.84                  7           67  \n",
       "2          609.69                 -2           58  \n",
       "3         6435.82                  0           60  \n",
       "4         1599.98                  8           68  "
      ]
     },
     "execution_count": 10,
     "metadata": {},
     "output_type": "execute_result"
    }
   ],
   "source": [
    "df1=df1.drop(['doc_number_norm','total_open_amount_norm','cust_number_norm','document_create_date_norm','clear_date_norm','invoice_id_norm'],axis=1)\n",
    "df1.head()"
   ]
  },
  {
   "cell_type": "markdown",
   "metadata": {},
   "source": [
    "## Droping coloumns having same values through out as they have no impact on the results\n"
   ]
  },
  {
   "cell_type": "code",
   "execution_count": 11,
   "metadata": {},
   "outputs": [
    {
     "name": "stdout",
     "output_type": "stream",
     "text": [
      "1\n",
      "1\n",
      "1\n"
     ]
    }
   ],
   "source": [
    "print(len(df1.customer_map_id.unique()))\n",
    "print(len(df1.document_type.unique()))\n",
    "print(len(df1.company_id.unique()))"
   ]
  },
  {
   "cell_type": "code",
   "execution_count": 12,
   "metadata": {},
   "outputs": [],
   "source": [
    "df1=df1.drop(['customer_map_id','document_type','company_id'],axis=1)"
   ]
  },
  {
   "cell_type": "markdown",
   "metadata": {},
   "source": [
    "# Feature engineering"
   ]
  },
  {
   "cell_type": "code",
   "execution_count": 13,
   "metadata": {},
   "outputs": [
    {
     "data": {
      "text/plain": [
       "acct_doc_header_id             int64\n",
       "doc_number                     int64\n",
       "business_code                 object\n",
       "cust_number                    int64\n",
       "name_customer                 object\n",
       "document_create_date          object\n",
       "invoice_id                     int64\n",
       "total_open_amount            float64\n",
       "cust_payment_terms             int64\n",
       "clear_date                    object\n",
       "is_open_invoice                int64\n",
       "invoice_currency             float64\n",
       "doc_id                         int64\n",
       "actual_outstanding_amount    float64\n",
       "payment_amount               float64\n",
       "days_past_duedate              int64\n",
       "age_invoice                    int64\n",
       "dtype: object"
      ]
     },
     "execution_count": 13,
     "metadata": {},
     "output_type": "execute_result"
    }
   ],
   "source": [
    "df1.dtypes"
   ]
  },
  {
   "cell_type": "markdown",
   "metadata": {},
   "source": [
    "#### Changing the data types of few necesarry variables"
   ]
  },
  {
   "cell_type": "code",
   "execution_count": 14,
   "metadata": {},
   "outputs": [],
   "source": [
    "df1['document_create_date'] = pd.to_datetime(df1.document_create_date)\n",
    "df1['clear_date'] = pd.to_datetime(df1.clear_date)"
   ]
  },
  {
   "cell_type": "markdown",
   "metadata": {},
   "source": [
    "### cust_number is allocated unique to ecah of tthe unique business code so cust number is removed"
   ]
  },
  {
   "cell_type": "code",
   "execution_count": 15,
   "metadata": {},
   "outputs": [],
   "source": [
    "df1=df1.drop(['cust_number'],axis=1)"
   ]
  },
  {
   "cell_type": "markdown",
   "metadata": {},
   "source": [
    "### Applying Label encoder"
   ]
  },
  {
   "cell_type": "code",
   "execution_count": 16,
   "metadata": {
    "scrolled": true
   },
   "outputs": [
    {
     "data": {
      "text/html": [
       "<div>\n",
       "<style scoped>\n",
       "    .dataframe tbody tr th:only-of-type {\n",
       "        vertical-align: middle;\n",
       "    }\n",
       "\n",
       "    .dataframe tbody tr th {\n",
       "        vertical-align: top;\n",
       "    }\n",
       "\n",
       "    .dataframe thead th {\n",
       "        text-align: right;\n",
       "    }\n",
       "</style>\n",
       "<table border=\"1\" class=\"dataframe\">\n",
       "  <thead>\n",
       "    <tr style=\"text-align: right;\">\n",
       "      <th></th>\n",
       "      <th>acct_doc_header_id</th>\n",
       "      <th>doc_number</th>\n",
       "      <th>business_code</th>\n",
       "      <th>name_customer</th>\n",
       "      <th>document_create_date</th>\n",
       "      <th>invoice_id</th>\n",
       "      <th>total_open_amount</th>\n",
       "      <th>cust_payment_terms</th>\n",
       "      <th>clear_date</th>\n",
       "      <th>is_open_invoice</th>\n",
       "      <th>invoice_currency</th>\n",
       "      <th>doc_id</th>\n",
       "      <th>actual_outstanding_amount</th>\n",
       "      <th>payment_amount</th>\n",
       "      <th>days_past_duedate</th>\n",
       "      <th>age_invoice</th>\n",
       "    </tr>\n",
       "  </thead>\n",
       "  <tbody>\n",
       "    <tr>\n",
       "      <th>0</th>\n",
       "      <td>538531572</td>\n",
       "      <td>38508548</td>\n",
       "      <td>13</td>\n",
       "      <td>PiperChat</td>\n",
       "      <td>2018-05-25</td>\n",
       "      <td>38508548</td>\n",
       "      <td>0.0</td>\n",
       "      <td>60</td>\n",
       "      <td>2018-07-28</td>\n",
       "      <td>0</td>\n",
       "      <td>4712.85</td>\n",
       "      <td>538531572</td>\n",
       "      <td>4712.85</td>\n",
       "      <td>4712.85</td>\n",
       "      <td>4</td>\n",
       "      <td>64</td>\n",
       "    </tr>\n",
       "    <tr>\n",
       "      <th>1</th>\n",
       "      <td>538021535</td>\n",
       "      <td>37717934</td>\n",
       "      <td>1</td>\n",
       "      <td>ABC Softwares</td>\n",
       "      <td>2018-04-27</td>\n",
       "      <td>37717934</td>\n",
       "      <td>0.0</td>\n",
       "      <td>60</td>\n",
       "      <td>2018-07-03</td>\n",
       "      <td>0</td>\n",
       "      <td>16135.84</td>\n",
       "      <td>538021535</td>\n",
       "      <td>16135.84</td>\n",
       "      <td>16135.84</td>\n",
       "      <td>7</td>\n",
       "      <td>67</td>\n",
       "    </tr>\n",
       "    <tr>\n",
       "      <th>2</th>\n",
       "      <td>533610329</td>\n",
       "      <td>31221060</td>\n",
       "      <td>28</td>\n",
       "      <td>cvMaker corp</td>\n",
       "      <td>2017-09-20</td>\n",
       "      <td>31221060</td>\n",
       "      <td>0.0</td>\n",
       "      <td>60</td>\n",
       "      <td>2017-11-17</td>\n",
       "      <td>0</td>\n",
       "      <td>609.69</td>\n",
       "      <td>533610329</td>\n",
       "      <td>609.69</td>\n",
       "      <td>609.69</td>\n",
       "      <td>-2</td>\n",
       "      <td>58</td>\n",
       "    </tr>\n",
       "    <tr>\n",
       "      <th>3</th>\n",
       "      <td>533861532</td>\n",
       "      <td>31618228</td>\n",
       "      <td>29</td>\n",
       "      <td>deep scraper</td>\n",
       "      <td>2017-10-03</td>\n",
       "      <td>31618228</td>\n",
       "      <td>0.0</td>\n",
       "      <td>60</td>\n",
       "      <td>2017-12-02</td>\n",
       "      <td>0</td>\n",
       "      <td>6435.82</td>\n",
       "      <td>533861532</td>\n",
       "      <td>6435.82</td>\n",
       "      <td>6435.82</td>\n",
       "      <td>0</td>\n",
       "      <td>60</td>\n",
       "    </tr>\n",
       "    <tr>\n",
       "      <th>4</th>\n",
       "      <td>535303724</td>\n",
       "      <td>32824039</td>\n",
       "      <td>24</td>\n",
       "      <td>aviato</td>\n",
       "      <td>2017-11-08</td>\n",
       "      <td>32824039</td>\n",
       "      <td>0.0</td>\n",
       "      <td>60</td>\n",
       "      <td>2018-01-15</td>\n",
       "      <td>0</td>\n",
       "      <td>1599.98</td>\n",
       "      <td>535303724</td>\n",
       "      <td>1599.98</td>\n",
       "      <td>1599.98</td>\n",
       "      <td>8</td>\n",
       "      <td>68</td>\n",
       "    </tr>\n",
       "    <tr>\n",
       "      <th>...</th>\n",
       "      <td>...</td>\n",
       "      <td>...</td>\n",
       "      <td>...</td>\n",
       "      <td>...</td>\n",
       "      <td>...</td>\n",
       "      <td>...</td>\n",
       "      <td>...</td>\n",
       "      <td>...</td>\n",
       "      <td>...</td>\n",
       "      <td>...</td>\n",
       "      <td>...</td>\n",
       "      <td>...</td>\n",
       "      <td>...</td>\n",
       "      <td>...</td>\n",
       "      <td>...</td>\n",
       "      <td>...</td>\n",
       "    </tr>\n",
       "    <tr>\n",
       "      <th>49995</th>\n",
       "      <td>543520868</td>\n",
       "      <td>46978344</td>\n",
       "      <td>39</td>\n",
       "      <td>nucleus</td>\n",
       "      <td>2019-03-08</td>\n",
       "      <td>46978344</td>\n",
       "      <td>0.0</td>\n",
       "      <td>60</td>\n",
       "      <td>2019-05-14</td>\n",
       "      <td>0</td>\n",
       "      <td>5079.97</td>\n",
       "      <td>543520868</td>\n",
       "      <td>5079.97</td>\n",
       "      <td>5079.97</td>\n",
       "      <td>7</td>\n",
       "      <td>67</td>\n",
       "    </tr>\n",
       "    <tr>\n",
       "      <th>49996</th>\n",
       "      <td>533482058</td>\n",
       "      <td>30897838</td>\n",
       "      <td>48</td>\n",
       "      <td>walmart</td>\n",
       "      <td>2017-09-07</td>\n",
       "      <td>30897838</td>\n",
       "      <td>0.0</td>\n",
       "      <td>60</td>\n",
       "      <td>2017-11-07</td>\n",
       "      <td>0</td>\n",
       "      <td>2607.98</td>\n",
       "      <td>533482058</td>\n",
       "      <td>2607.98</td>\n",
       "      <td>2607.98</td>\n",
       "      <td>1</td>\n",
       "      <td>61</td>\n",
       "    </tr>\n",
       "    <tr>\n",
       "      <th>49997</th>\n",
       "      <td>540836426</td>\n",
       "      <td>41267305</td>\n",
       "      <td>45</td>\n",
       "      <td>see food</td>\n",
       "      <td>2018-09-19</td>\n",
       "      <td>41267305</td>\n",
       "      <td>0.0</td>\n",
       "      <td>67</td>\n",
       "      <td>2018-11-25</td>\n",
       "      <td>0</td>\n",
       "      <td>2218.24</td>\n",
       "      <td>540836426</td>\n",
       "      <td>2218.24</td>\n",
       "      <td>2218.24</td>\n",
       "      <td>0</td>\n",
       "      <td>67</td>\n",
       "    </tr>\n",
       "    <tr>\n",
       "      <th>49998</th>\n",
       "      <td>538585928</td>\n",
       "      <td>38572575</td>\n",
       "      <td>41</td>\n",
       "      <td>pied piper</td>\n",
       "      <td>2018-05-29</td>\n",
       "      <td>38572575</td>\n",
       "      <td>0.0</td>\n",
       "      <td>60</td>\n",
       "      <td>2018-07-28</td>\n",
       "      <td>0</td>\n",
       "      <td>12804.61</td>\n",
       "      <td>538585928</td>\n",
       "      <td>12804.61</td>\n",
       "      <td>12804.61</td>\n",
       "      <td>0</td>\n",
       "      <td>60</td>\n",
       "    </tr>\n",
       "    <tr>\n",
       "      <th>49999</th>\n",
       "      <td>542522395</td>\n",
       "      <td>44754864</td>\n",
       "      <td>39</td>\n",
       "      <td>nucleus</td>\n",
       "      <td>2018-12-31</td>\n",
       "      <td>44754864</td>\n",
       "      <td>0.0</td>\n",
       "      <td>60</td>\n",
       "      <td>2019-03-07</td>\n",
       "      <td>0</td>\n",
       "      <td>16036.59</td>\n",
       "      <td>542522395</td>\n",
       "      <td>16036.59</td>\n",
       "      <td>16036.59</td>\n",
       "      <td>6</td>\n",
       "      <td>66</td>\n",
       "    </tr>\n",
       "  </tbody>\n",
       "</table>\n",
       "<p>45000 rows × 16 columns</p>\n",
       "</div>"
      ],
      "text/plain": [
       "       acct_doc_header_id  doc_number  business_code  name_customer  \\\n",
       "0               538531572    38508548             13      PiperChat   \n",
       "1               538021535    37717934              1  ABC Softwares   \n",
       "2               533610329    31221060             28   cvMaker corp   \n",
       "3               533861532    31618228             29   deep scraper   \n",
       "4               535303724    32824039             24         aviato   \n",
       "...                   ...         ...            ...            ...   \n",
       "49995           543520868    46978344             39        nucleus   \n",
       "49996           533482058    30897838             48        walmart   \n",
       "49997           540836426    41267305             45       see food   \n",
       "49998           538585928    38572575             41     pied piper   \n",
       "49999           542522395    44754864             39        nucleus   \n",
       "\n",
       "      document_create_date  invoice_id  total_open_amount  cust_payment_terms  \\\n",
       "0               2018-05-25    38508548                0.0                  60   \n",
       "1               2018-04-27    37717934                0.0                  60   \n",
       "2               2017-09-20    31221060                0.0                  60   \n",
       "3               2017-10-03    31618228                0.0                  60   \n",
       "4               2017-11-08    32824039                0.0                  60   \n",
       "...                    ...         ...                ...                 ...   \n",
       "49995           2019-03-08    46978344                0.0                  60   \n",
       "49996           2017-09-07    30897838                0.0                  60   \n",
       "49997           2018-09-19    41267305                0.0                  67   \n",
       "49998           2018-05-29    38572575                0.0                  60   \n",
       "49999           2018-12-31    44754864                0.0                  60   \n",
       "\n",
       "      clear_date  is_open_invoice  invoice_currency     doc_id  \\\n",
       "0     2018-07-28                0           4712.85  538531572   \n",
       "1     2018-07-03                0          16135.84  538021535   \n",
       "2     2017-11-17                0            609.69  533610329   \n",
       "3     2017-12-02                0           6435.82  533861532   \n",
       "4     2018-01-15                0           1599.98  535303724   \n",
       "...          ...              ...               ...        ...   \n",
       "49995 2019-05-14                0           5079.97  543520868   \n",
       "49996 2017-11-07                0           2607.98  533482058   \n",
       "49997 2018-11-25                0           2218.24  540836426   \n",
       "49998 2018-07-28                0          12804.61  538585928   \n",
       "49999 2019-03-07                0          16036.59  542522395   \n",
       "\n",
       "       actual_outstanding_amount  payment_amount  days_past_duedate  \\\n",
       "0                        4712.85         4712.85                  4   \n",
       "1                       16135.84        16135.84                  7   \n",
       "2                         609.69          609.69                 -2   \n",
       "3                        6435.82         6435.82                  0   \n",
       "4                        1599.98         1599.98                  8   \n",
       "...                          ...             ...                ...   \n",
       "49995                    5079.97         5079.97                  7   \n",
       "49996                    2607.98         2607.98                  1   \n",
       "49997                    2218.24         2218.24                  0   \n",
       "49998                   12804.61        12804.61                  0   \n",
       "49999                   16036.59        16036.59                  6   \n",
       "\n",
       "       age_invoice  \n",
       "0               64  \n",
       "1               67  \n",
       "2               58  \n",
       "3               60  \n",
       "4               68  \n",
       "...            ...  \n",
       "49995           67  \n",
       "49996           61  \n",
       "49997           67  \n",
       "49998           60  \n",
       "49999           66  \n",
       "\n",
       "[45000 rows x 16 columns]"
      ]
     },
     "execution_count": 16,
     "metadata": {},
     "output_type": "execute_result"
    }
   ],
   "source": [
    "from sklearn.preprocessing import LabelEncoder\n",
    "labelencode=LabelEncoder()\n",
    "df1['business_code'] = labelencode.fit_transform(df1['business_code'])\n",
    "df1"
   ]
  },
  {
   "cell_type": "code",
   "execution_count": 17,
   "metadata": {},
   "outputs": [
    {
     "name": "stderr",
     "output_type": "stream",
     "text": [
      "c:\\users\\brai-\\appdata\\local\\programs\\python\\python37\\lib\\site-packages\\ipykernel_launcher.py:1: SettingWithCopyWarning: \n",
      "A value is trying to be set on a copy of a slice from a DataFrame.\n",
      "Try using .loc[row_indexer,col_indexer] = value instead\n",
      "\n",
      "See the caveats in the documentation: https://pandas.pydata.org/pandas-docs/stable/user_guide/indexing.html#returning-a-view-versus-a-copy\n",
      "  \"\"\"Entry point for launching an IPython kernel.\n"
     ]
    }
   ],
   "source": [
    "y['business_code'] = labelencode.fit_transform(y['business_code'])"
   ]
  },
  {
   "cell_type": "markdown",
   "metadata": {},
   "source": [
    "### Sorting the dataset according to clear date and removing duplicates of documnet number while keeping its first appearence"
   ]
  },
  {
   "cell_type": "code",
   "execution_count": 18,
   "metadata": {},
   "outputs": [],
   "source": [
    "df1=df1.sort_values(by=['clear_date'])\n",
    "df1=df1.drop_duplicates(subset =\"doc_number\", \n",
    "                     keep = \"first\") "
   ]
  },
  {
   "cell_type": "code",
   "execution_count": 19,
   "metadata": {},
   "outputs": [],
   "source": [
    "import pylab \n",
    "import seaborn as sns\n",
    "import scipy.stats as stats\n",
    "sns.set(style=\"whitegrid\")"
   ]
  },
  {
   "cell_type": "markdown",
   "metadata": {},
   "source": [
    "### vizualing to check for any neccesary changes to be made to fit the model"
   ]
  },
  {
   "cell_type": "code",
   "execution_count": 20,
   "metadata": {},
   "outputs": [],
   "source": [
    "def diagnostic_plots2(df, variable):\n",
    "    # function takes a dataframe (df) and\n",
    "    # the variable of interest as arguments\n",
    "\n",
    "    # define figure size\n",
    "    plt.figure(figsize=(16, 4))\n",
    "\n",
    "    # histogram\n",
    "    plt.subplot(1, 3, 1)\n",
    "    sns.distplot(df[variable], bins=30)\n",
    "    plt.title('Histogram')\n",
    "\n",
    "    # Q-Q plot\n",
    "    plt.subplot(1, 3, 2)\n",
    "    stats.probplot(df[variable], dist=\"norm\", plot=pylab)\n",
    "    plt.ylabel('RM quantiles')\n",
    "\n",
    "    # boxplot\n",
    "    plt.subplot(1, 3, 3)\n",
    "    sns.boxplot(y=df[variable])\n",
    "    plt.title('Boxplot')\n",
    "\n",
    "    plt.show()"
   ]
  },
  {
   "cell_type": "code",
   "execution_count": 21,
   "metadata": {},
   "outputs": [
    {
     "data": {
      "image/png": "[encoded data removed]",
      "text/plain": [
       "<Figure size 1152x288 with 3 Axes>"
      ]
     },
     "metadata": {},
     "output_type": "display_data"
    }
   ],
   "source": [
    "diagnostic_plots2(df1, 'days_past_duedate')"
   ]
  },
  {
   "cell_type": "code",
   "execution_count": 22,
   "metadata": {},
   "outputs": [
    {
     "data": {
      "image/png": "[encoded data removed]",
      "text/plain": [
       "<Figure size 1152x288 with 3 Axes>"
      ]
     },
     "metadata": {},
     "output_type": "display_data"
    }
   ],
   "source": [
    "diagnostic_plots2(df1, 'age_invoice')"
   ]
  },
  {
   "cell_type": "code",
   "execution_count": 23,
   "metadata": {},
   "outputs": [],
   "source": [
    "# function to find upper and lower boundaries\n",
    "# for skewed distributed variables\n",
    "\n",
    "\n",
    "def find_skewed_boundaries(df, variable, distance):\n",
    "\n",
    "    # Let's calculate the boundaries outside which sit the outliers\n",
    "    # for skewed distributions\n",
    "\n",
    "    # distance passed as an argument, gives us the option to\n",
    "    # estimate 1.5 times or 3 times the IQR to calculate\n",
    "    # the boundaries.\n",
    "\n",
    "    IQR = df[variable].quantile(0.75) - df[variable].quantile(0.25)\n",
    "\n",
    "    lower_boundary = df[variable].quantile(0.25) - (IQR * distance)\n",
    "    upper_boundary = df[variable].quantile(0.75) + (IQR * distance)\n",
    "\n",
    "    return upper_boundary, lower_boundary"
   ]
  },
  {
   "cell_type": "code",
   "execution_count": 24,
   "metadata": {},
   "outputs": [
    {
     "data": {
      "text/plain": [
       "(81.5, 45.5)"
      ]
     },
     "execution_count": 24,
     "metadata": {},
     "output_type": "execute_result"
    }
   ],
   "source": [
    "# looking for outliers,\n",
    "# using the interquantile proximity rule\n",
    "# IQR * 1.5, the standard metric\n",
    "\n",
    "# for age invoice\n",
    "\n",
    "upper_boundary, lower_boundary = find_skewed_boundaries(df1, 'age_invoice', 1.5)\n",
    "upper_boundary, lower_boundary"
   ]
  },
  {
   "cell_type": "code",
   "execution_count": 25,
   "metadata": {},
   "outputs": [
    {
     "name": "stdout",
     "output_type": "stream",
     "text": [
      "total data: 40010\n",
      "data with invoice bigger than 81.5: 5962\n",
      "\n",
      "% data with age invoice bigger than 81.5: 0.14901274681329668\n"
     ]
    }
   ],
   "source": [
    "# lets look at the number and percentage of outliers\n",
    "# for age invoice\n",
    "\n",
    "print('total data: {}'.format(len(df1)))\n",
    "\n",
    "print('data with invoice bigger than 81.5: {}'.format(\n",
    "    len(df1[df1['age_invoice'] > upper_boundary])))\n",
    "print()\n",
    "print('% data with age invoice bigger than 81.5: {}'.format(\n",
    "    len(df1[df1['age_invoice'] > upper_boundary])/len(df1)))"
   ]
  },
  {
   "cell_type": "code",
   "execution_count": 26,
   "metadata": {
    "scrolled": true
   },
   "outputs": [
    {
     "name": "stdout",
     "output_type": "stream",
     "text": [
      "total data: 40010\n",
      "data with invoice lower than 45.5: 496\n",
      "\n",
      "% data with age invoice lower than 45.5: 0.012396900774806298\n"
     ]
    }
   ],
   "source": [
    "# lets look at the number and percentage of outliers\n",
    "# for age invoice\n",
    "\n",
    "print('total data: {}'.format(len(df1)))\n",
    "\n",
    "print('data with invoice lower than 45.5: {}'.format(\n",
    "    len(df1[df1['age_invoice'] < lower_boundary])))\n",
    "print()\n",
    "print('% data with age invoice lower than 45.5: {}'.format(\n",
    "    len(df1[df1['age_invoice'] < lower_boundary])/len(df1)))"
   ]
  },
  {
   "cell_type": "code",
   "execution_count": 27,
   "metadata": {},
   "outputs": [],
   "source": [
    "df1.drop(df1[df1['age_invoice'] > 81.5].index, inplace = True)"
   ]
  },
  {
   "cell_type": "code",
   "execution_count": 28,
   "metadata": {},
   "outputs": [],
   "source": [
    "df1.drop(df1[df1['age_invoice'] < 45.5].index, inplace = True)"
   ]
  },
  {
   "cell_type": "code",
   "execution_count": 29,
   "metadata": {},
   "outputs": [
    {
     "data": {
      "image/png": "[encoded data removed]",
      "text/plain": [
       "<Figure size 1152x288 with 3 Axes>"
      ]
     },
     "metadata": {},
     "output_type": "display_data"
    }
   ],
   "source": [
    "diagnostic_plots2(df1, 'age_invoice')"
   ]
  },
  {
   "cell_type": "code",
   "execution_count": 30,
   "metadata": {},
   "outputs": [
    {
     "data": {
      "image/png": "[encoded data removed]",
      "text/plain": [
       "<Figure size 1152x288 with 3 Axes>"
      ]
     },
     "metadata": {},
     "output_type": "display_data"
    }
   ],
   "source": [
    "diagnostic_plots2(df1, 'days_past_duedate')"
   ]
  },
  {
   "cell_type": "markdown",
   "metadata": {},
   "source": [
    "### Removing qutliers of age_invoice has made both the age_invoice and days_past_duedate having noram distribution which is better for the mdoels prediction"
   ]
  },
  {
   "cell_type": "code",
   "execution_count": 31,
   "metadata": {},
   "outputs": [
    {
     "data": {
      "image/png": "[encoded data removed]",
      "text/plain": [
       "<Figure size 1152x288 with 3 Axes>"
      ]
     },
     "metadata": {},
     "output_type": "display_data"
    }
   ],
   "source": [
    "diagnostic_plots2(df1, 'invoice_currency')"
   ]
  },
  {
   "cell_type": "markdown",
   "metadata": {},
   "source": []
  },
  {
   "cell_type": "raw",
   "metadata": {},
   "source": []
  },
  {
   "cell_type": "raw",
   "metadata": {},
   "source": []
  },
  {
   "cell_type": "markdown",
   "metadata": {},
   "source": [
    "#### Cross validation "
   ]
  },
  {
   "cell_type": "code",
   "execution_count": 32,
   "metadata": {},
   "outputs": [],
   "source": [
    "from sklearn.linear_model import Ridge\n",
    "from sklearn.ensemble import AdaBoostRegressor\n",
    "from sklearn import svm\n",
    "from sklearn.ensemble import RandomForestRegressor\n",
    "from sklearn.model_selection import cross_val_score"
   ]
  },
  {
   "cell_type": "code",
   "execution_count": 33,
   "metadata": {},
   "outputs": [
    {
     "data": {
      "text/plain": [
       "((23486, 11), (10066, 11))"
      ]
     },
     "execution_count": 33,
     "metadata": {},
     "output_type": "execute_result"
    }
   ],
   "source": [
    "x_train, x_test, Y_train, Y_test = train_test_split(df1.drop(labels=['acct_doc_header_id','payment_amount','name_customer','document_create_date','clear_date'], axis=1)\n",
    "                                                    ,df1['payment_amount'],test_size=0.3,random_state=0)\n",
    "\n",
    "x_train.shape, x_test.shape"
   ]
  },
  {
   "cell_type": "code",
   "execution_count": 34,
   "metadata": {},
   "outputs": [
    {
     "data": {
      "text/plain": [
       "0.9345378437687872"
      ]
     },
     "execution_count": 34,
     "metadata": {},
     "output_type": "execute_result"
    }
   ],
   "source": [
    "cross_val_score(RandomForestRegressor(n_estimators=100, random_state=39, max_depth=4),x_train,Y_train).mean()"
   ]
  },
  {
   "cell_type": "code",
   "execution_count": 35,
   "metadata": {},
   "outputs": [
    {
     "data": {
      "text/plain": [
       "0.9358608136475155"
      ]
     },
     "execution_count": 35,
     "metadata": {},
     "output_type": "execute_result"
    }
   ],
   "source": [
    "cross_val_score(RandomForestRegressor(n_estimators=300, random_state=39, max_depth=4),x_train,Y_train).mean()"
   ]
  },
  {
   "cell_type": "code",
   "execution_count": 36,
   "metadata": {},
   "outputs": [
    {
     "data": {
      "text/plain": [
       "0.9350413708568466"
      ]
     },
     "execution_count": 36,
     "metadata": {},
     "output_type": "execute_result"
    }
   ],
   "source": [
    "cross_val_score(RandomForestRegressor(n_estimators=200, random_state=39, max_depth=4),x_train,Y_train).mean()"
   ]
  },
  {
   "cell_type": "markdown",
   "metadata": {},
   "source": [
    "##### this changing of parameter is called parameter tuning to check which delivers the best one"
   ]
  },
  {
   "cell_type": "code",
   "execution_count": 37,
   "metadata": {},
   "outputs": [
    {
     "data": {
      "text/plain": [
       "0.8185722324493202"
      ]
     },
     "execution_count": 37,
     "metadata": {},
     "output_type": "execute_result"
    }
   ],
   "source": [
    "cross_val_score(AdaBoostRegressor(random_state=0, n_estimators=100),x_train,Y_train).mean()"
   ]
  },
  {
   "cell_type": "code",
   "execution_count": 38,
   "metadata": {},
   "outputs": [
    {
     "data": {
      "text/plain": [
       "-0.06828066242167155"
      ]
     },
     "execution_count": 38,
     "metadata": {},
     "output_type": "execute_result"
    }
   ],
   "source": [
    "cross_val_score(svm.SVR(),x_train,Y_train).mean()"
   ]
  },
  {
   "cell_type": "code",
   "execution_count": 40,
   "metadata": {},
   "outputs": [
    {
     "name": "stderr",
     "output_type": "stream",
     "text": [
      "c:\\users\\brai-\\appdata\\local\\programs\\python\\python37\\lib\\site-packages\\sklearn\\linear_model\\_ridge.py:148: LinAlgWarning: Ill-conditioned matrix (rcond=7.16073e-19): result may not be accurate.\n",
      "  overwrite_a=True).T\n",
      "c:\\users\\brai-\\appdata\\local\\programs\\python\\python37\\lib\\site-packages\\sklearn\\linear_model\\_ridge.py:148: LinAlgWarning: Ill-conditioned matrix (rcond=7.16323e-19): result may not be accurate.\n",
      "  overwrite_a=True).T\n",
      "c:\\users\\brai-\\appdata\\local\\programs\\python\\python37\\lib\\site-packages\\sklearn\\linear_model\\_ridge.py:148: LinAlgWarning: Ill-conditioned matrix (rcond=7.17791e-19): result may not be accurate.\n",
      "  overwrite_a=True).T\n"
     ]
    },
    {
     "data": {
      "text/plain": [
       "0.9621675009279309"
      ]
     },
     "execution_count": 40,
     "metadata": {},
     "output_type": "execute_result"
    }
   ],
   "source": [
    "cross_val_score(Ridge(alpha=1.0),x_train,Y_train).mean()"
   ]
  },
  {
   "cell_type": "markdown",
   "metadata": {},
   "source": [
    "##### as from above the random forest shows the best results so model will be built on randomFroestRegessor with the given parameters which suited the best in cross vaalidation score and ridge is not used as it showed some neagtive values in the predicted payment amount"
   ]
  },
  {
   "cell_type": "markdown",
   "metadata": {},
   "source": [
    "## Featuring Selection Technique"
   ]
  },
  {
   "cell_type": "markdown",
   "metadata": {},
   "source": [
    "### Removing correleated features"
   ]
  },
  {
   "cell_type": "code",
   "execution_count": 41,
   "metadata": {},
   "outputs": [
    {
     "data": {
      "text/plain": [
       "<matplotlib.axes._subplots.AxesSubplot at 0x28d83f55948>"
      ]
     },
     "execution_count": 41,
     "metadata": {},
     "output_type": "execute_result"
    },
    {
     "data": {
      "image/png": "[encoded data removed]",
      "text/plain": [
       "<Figure size 792x792 with 2 Axes>"
      ]
     },
     "metadata": {},
     "output_type": "display_data"
    }
   ],
   "source": [
    "corrmat = x_train.corr()\n",
    "fig, ax = plt.subplots()\n",
    "fig.set_size_inches(11,11)\n",
    "sns.heatmap(corrmat)"
   ]
  },
  {
   "cell_type": "markdown",
   "metadata": {},
   "source": [
    "#### Darker the area more the correleation"
   ]
  },
  {
   "cell_type": "code",
   "execution_count": 42,
   "metadata": {},
   "outputs": [
    {
     "name": "stdout",
     "output_type": "stream",
     "text": [
      "correlated features:  4\n"
     ]
    }
   ],
   "source": [
    "def correlation(dataset, threshold):\n",
    "    col_corr = set()  # Set of all the names of correlated columns\n",
    "    corr_matrix = dataset.corr()\n",
    "    for i in range(len(corr_matrix.columns)):\n",
    "        for j in range(i):\n",
    "            if abs(corr_matrix.iloc[i, j]) > threshold: # we are interested in absolute coeff value\n",
    "                colname = corr_matrix.columns[i]  # getting the name of column\n",
    "                col_corr.add(colname)\n",
    "    return col_corr\n",
    "\n",
    "corr_features = correlation(x_train, 0.8)\n",
    "print('correlated features: ', len(set(corr_features)) )"
   ]
  },
  {
   "cell_type": "code",
   "execution_count": 43,
   "metadata": {},
   "outputs": [
    {
     "data": {
      "text/plain": [
       "((23486, 7), (10066, 7))"
      ]
     },
     "execution_count": 43,
     "metadata": {},
     "output_type": "execute_result"
    }
   ],
   "source": [
    "#droping corelated features\n",
    "x_train.drop(labels=corr_features, axis=1, inplace=True)\n",
    "x_test.drop(labels=corr_features, axis=1, inplace=True)\n",
    "\n",
    "x_train.shape, x_test.shape"
   ]
  },
  {
   "cell_type": "markdown",
   "metadata": {},
   "source": [
    "# SequentialFeatureSelector"
   ]
  },
  {
   "cell_type": "code",
   "execution_count": 44,
   "metadata": {},
   "outputs": [
    {
     "name": "stderr",
     "output_type": "stream",
     "text": [
      "[Parallel(n_jobs=1)]: Using backend SequentialBackend with 1 concurrent workers.\n",
      "[Parallel(n_jobs=1)]: Done   1 out of   1 | elapsed:    2.7s remaining:    0.0s\n",
      "[Parallel(n_jobs=1)]: Done   7 out of   7 | elapsed:    7.0s finished\n",
      "\n",
      "[2020-05-05 22:20:27] Features: 1/7 -- score: 0.9464388970627116[Parallel(n_jobs=1)]: Using backend SequentialBackend with 1 concurrent workers.\n",
      "[Parallel(n_jobs=1)]: Done   1 out of   1 | elapsed:    1.8s remaining:    0.0s\n",
      "[Parallel(n_jobs=1)]: Done   6 out of   6 | elapsed:    9.6s finished\n",
      "\n",
      "[2020-05-05 22:20:37] Features: 2/7 -- score: 0.9603638790574158[Parallel(n_jobs=1)]: Using backend SequentialBackend with 1 concurrent workers.\n",
      "[Parallel(n_jobs=1)]: Done   1 out of   1 | elapsed:    2.0s remaining:    0.0s\n",
      "[Parallel(n_jobs=1)]: Done   5 out of   5 | elapsed:    9.0s finished\n",
      "\n",
      "[2020-05-05 22:20:46] Features: 3/7 -- score: 0.9620304976897834[Parallel(n_jobs=1)]: Using backend SequentialBackend with 1 concurrent workers.\n",
      "[Parallel(n_jobs=1)]: Done   1 out of   1 | elapsed:    2.1s remaining:    0.0s\n",
      "[Parallel(n_jobs=1)]: Done   4 out of   4 | elapsed:    7.8s finished\n",
      "\n",
      "[2020-05-05 22:20:54] Features: 4/7 -- score: 0.9633746998323576[Parallel(n_jobs=1)]: Using backend SequentialBackend with 1 concurrent workers.\n",
      "[Parallel(n_jobs=1)]: Done   1 out of   1 | elapsed:    2.2s remaining:    0.0s\n",
      "[Parallel(n_jobs=1)]: Done   3 out of   3 | elapsed:    6.1s finished\n",
      "\n",
      "[2020-05-05 22:21:00] Features: 5/7 -- score: 0.9625979271725056[Parallel(n_jobs=1)]: Using backend SequentialBackend with 1 concurrent workers.\n",
      "[Parallel(n_jobs=1)]: Done   1 out of   1 | elapsed:    2.2s remaining:    0.0s\n",
      "[Parallel(n_jobs=1)]: Done   2 out of   2 | elapsed:    4.2s finished\n",
      "\n",
      "[2020-05-05 22:21:04] Features: 6/7 -- score: 0.9611995632837208[Parallel(n_jobs=1)]: Using backend SequentialBackend with 1 concurrent workers.\n",
      "[Parallel(n_jobs=1)]: Done   1 out of   1 | elapsed:    2.3s remaining:    0.0s\n",
      "[Parallel(n_jobs=1)]: Done   1 out of   1 | elapsed:    2.3s finished\n",
      "\n",
      "[2020-05-05 22:21:07] Features: 7/7 -- score: 0.9570719232821068"
     ]
    }
   ],
   "source": [
    "sfs1 = SFS(RandomForestRegressor(n_jobs=4), \n",
    "           k_features=7, \n",
    "           forward=True, \n",
    "           floating=False, \n",
    "           verbose=2,\n",
    "           scoring='r2',\n",
    "           cv=2)\n",
    "\n",
    "sfs1 = sfs1.fit(np.array(x_train), Y_train)"
   ]
  },
  {
   "cell_type": "code",
   "execution_count": 45,
   "metadata": {},
   "outputs": [
    {
     "data": {
      "text/plain": [
       "Index(['doc_number', 'business_code', 'total_open_amount',\n",
       "       'cust_payment_terms', 'is_open_invoice', 'invoice_currency',\n",
       "       'days_past_duedate'],\n",
       "      dtype='object')"
      ]
     },
     "execution_count": 45,
     "metadata": {},
     "output_type": "execute_result"
    }
   ],
   "source": [
    "selected_feat= x_train.columns[list(sfs1.k_feature_idx_)]\n",
    "selected_feat"
   ]
  },
  {
   "cell_type": "markdown",
   "metadata": {},
   "source": [
    "### Exhaustive feature selection"
   ]
  },
  {
   "cell_type": "code",
   "execution_count": null,
   "metadata": {},
   "outputs": [],
   "source": [
    "efs1 = EFS(RandomForestRegressor(n_jobs=4, random_state=0), \n",
    "           min_features=3,\n",
    "           max_features=7, \n",
    "           scoring='r2',\n",
    "           print_progress=True,\n",
    "           cv=2)\n",
    "\n",
    "efs1 = efs1.fit(np.array(x_train[x_train.columns[0:8]].fillna(0)), Y_train)"
   ]
  },
  {
   "cell_type": "code",
   "execution_count": null,
   "metadata": {},
   "outputs": [],
   "source": [
    "selected_feature= x_train.columns[list(efs1.best_idx_)]\n",
    "selected_feature"
   ]
  },
  {
   "cell_type": "markdown",
   "metadata": {},
   "source": [
    "## applying randomforestRegessor"
   ]
  },
  {
   "cell_type": "code",
   "execution_count": 51,
   "metadata": {},
   "outputs": [],
   "source": [
    "def run_randomForests(x_train, x_test, Y_train, Y_test):\n",
    "    rf = RandomForestRegressor(n_estimators=200, random_state=39, max_depth=4)\n",
    "    rf.fit(x_train, Y_train)\n",
    "    print('Train set')\n",
    "    pred = rf.predict(x_train)\n",
    "    print('Random Forests r2_score: {}'.format(r2_score(Y_train, pred[:])))\n",
    "    print('Test set')\n",
    "    pred = rf.predict(x_test) \n",
    "    print('Random Forests r2_score: {}'.format(r2_score(Y_test, pred[:])))"
   ]
  },
  {
   "cell_type": "code",
   "execution_count": 52,
   "metadata": {},
   "outputs": [
    {
     "name": "stdout",
     "output_type": "stream",
     "text": [
      "Train set\n",
      "Random Forests r2_score: 0.9692158393669708\n",
      "Test set\n",
      "Random Forests r2_score: 0.9611780025006467\n"
     ]
    }
   ],
   "source": [
    "run_randomForests(x_train[selected_feat].fillna(0),\n",
    "                  x_test[selected_feat].fillna(0),\n",
    "                  Y_train, Y_test)"
   ]
  },
  {
   "cell_type": "code",
   "execution_count": 46,
   "metadata": {},
   "outputs": [
    {
     "data": {
      "text/plain": [
       "RandomForestRegressor(bootstrap=True, ccp_alpha=0.0, criterion='mse',\n",
       "                      max_depth=4, max_features='auto', max_leaf_nodes=None,\n",
       "                      max_samples=None, min_impurity_decrease=0.0,\n",
       "                      min_impurity_split=None, min_samples_leaf=1,\n",
       "                      min_samples_split=2, min_weight_fraction_leaf=0.0,\n",
       "                      n_estimators=200, n_jobs=None, oob_score=False,\n",
       "                      random_state=39, verbose=0, warm_start=False)"
      ]
     },
     "execution_count": 46,
     "metadata": {},
     "output_type": "execute_result"
    }
   ],
   "source": [
    "rf = RandomForestRegressor(n_estimators=200, random_state=39, max_depth=4)\n",
    "rf.fit(x_train[selected_feat].fillna(0), Y_train)"
   ]
  },
  {
   "cell_type": "code",
   "execution_count": 47,
   "metadata": {},
   "outputs": [],
   "source": [
    "pred0=rf.predict(x_train[selected_feat].fillna(0))\n",
    "pred1=rf.predict(x_test[selected_feat].fillna(0))"
   ]
  },
  {
   "cell_type": "markdown",
   "metadata": {},
   "source": [
    "### accuracy check"
   ]
  },
  {
   "cell_type": "code",
   "execution_count": 50,
   "metadata": {},
   "outputs": [
    {
     "name": "stdout",
     "output_type": "stream",
     "text": [
      "Random Forests r2_score: 0.9611780025006467\n"
     ]
    }
   ],
   "source": [
    "print('Random Forests r2_score: {}'.format(r2_score(Y_test, pred1[:])))\n"
   ]
  },
  {
   "cell_type": "code",
   "execution_count": null,
   "metadata": {},
   "outputs": [],
   "source": []
  },
  {
   "cell_type": "markdown",
   "metadata": {},
   "source": [
    "#### vizualizing the sets and prediction outcome"
   ]
  },
  {
   "cell_type": "code",
   "execution_count": 53,
   "metadata": {},
   "outputs": [
    {
     "data": {
      "text/plain": [
       "Text(0, 0.5, 'payment')"
      ]
     },
     "execution_count": 53,
     "metadata": {},
     "output_type": "execute_result"
    },
    {
     "data": {
      "image/png": "[encoded data removed]",
      "text/plain": [
       "<Figure size 432x288 with 1 Axes>"
      ]
     },
     "metadata": {},
     "output_type": "display_data"
    }
   ],
   "source": [
    "plt.scatter(x_train['business_code'],Y_train,color='blue')\n",
    "plt.scatter(x_train['business_code'],pred0,color='red')\n",
    "plt.title('business_code vs payment')\n",
    "plt.xlabel('business_code')\n",
    "plt.legend({'predicted','actual'})\n",
    "plt.ylabel('payment')"
   ]
  },
  {
   "cell_type": "markdown",
   "metadata": {},
   "source": [
    "#### showing a representation of actual first paymnent done to predicted first payment done with respect to business code"
   ]
  },
  {
   "cell_type": "code",
   "execution_count": 54,
   "metadata": {},
   "outputs": [],
   "source": [
    "#filling the features to predict\n",
    "y1=y[selected_feat].fillna(0)"
   ]
  },
  {
   "cell_type": "code",
   "execution_count": 55,
   "metadata": {},
   "outputs": [],
   "source": [
    "pred2= rf.predict(y1)"
   ]
  },
  {
   "cell_type": "code",
   "execution_count": null,
   "metadata": {},
   "outputs": [],
   "source": []
  },
  {
   "cell_type": "code",
   "execution_count": 56,
   "metadata": {},
   "outputs": [],
   "source": [
    "df5=y[['doc_number','business_code','days_past_duedate','invoice_currency','total_open_amount']]"
   ]
  },
  {
   "cell_type": "code",
   "execution_count": 57,
   "metadata": {},
   "outputs": [
    {
     "name": "stderr",
     "output_type": "stream",
     "text": [
      "c:\\users\\brai-\\appdata\\local\\programs\\python\\python37\\lib\\site-packages\\ipykernel_launcher.py:1: SettingWithCopyWarning: \n",
      "A value is trying to be set on a copy of a slice from a DataFrame.\n",
      "Try using .loc[row_indexer,col_indexer] = value instead\n",
      "\n",
      "See the caveats in the documentation: https://pandas.pydata.org/pandas-docs/stable/user_guide/indexing.html#returning-a-view-versus-a-copy\n",
      "  \"\"\"Entry point for launching an IPython kernel.\n"
     ]
    }
   ],
   "source": [
    "df5['pred_first_amount']=pred2"
   ]
  },
  {
   "cell_type": "code",
   "execution_count": 58,
   "metadata": {},
   "outputs": [
    {
     "data": {
      "text/html": [
       "<div>\n",
       "<style scoped>\n",
       "    .dataframe tbody tr th:only-of-type {\n",
       "        vertical-align: middle;\n",
       "    }\n",
       "\n",
       "    .dataframe tbody tr th {\n",
       "        vertical-align: top;\n",
       "    }\n",
       "\n",
       "    .dataframe thead th {\n",
       "        text-align: right;\n",
       "    }\n",
       "</style>\n",
       "<table border=\"1\" class=\"dataframe\">\n",
       "  <thead>\n",
       "    <tr style=\"text-align: right;\">\n",
       "      <th></th>\n",
       "      <th>doc_number</th>\n",
       "      <th>business_code</th>\n",
       "      <th>days_past_duedate</th>\n",
       "      <th>invoice_currency</th>\n",
       "      <th>total_open_amount</th>\n",
       "      <th>pred_first_amount</th>\n",
       "    </tr>\n",
       "  </thead>\n",
       "  <tbody>\n",
       "    <tr>\n",
       "      <th>42505</th>\n",
       "      <td>51501891</td>\n",
       "      <td>24</td>\n",
       "      <td>-55</td>\n",
       "      <td>24401.49</td>\n",
       "      <td>24401.49</td>\n",
       "      <td>21119.271615</td>\n",
       "    </tr>\n",
       "    <tr>\n",
       "      <th>42506</th>\n",
       "      <td>51116066</td>\n",
       "      <td>41</td>\n",
       "      <td>-41</td>\n",
       "      <td>2877.69</td>\n",
       "      <td>2877.69</td>\n",
       "      <td>3859.971604</td>\n",
       "    </tr>\n",
       "    <tr>\n",
       "      <th>42507</th>\n",
       "      <td>51041047</td>\n",
       "      <td>38</td>\n",
       "      <td>-46</td>\n",
       "      <td>2884.55</td>\n",
       "      <td>2884.55</td>\n",
       "      <td>3859.971604</td>\n",
       "    </tr>\n",
       "    <tr>\n",
       "      <th>42508</th>\n",
       "      <td>50042257</td>\n",
       "      <td>26</td>\n",
       "      <td>-20</td>\n",
       "      <td>22585.07</td>\n",
       "      <td>22585.07</td>\n",
       "      <td>19330.719159</td>\n",
       "    </tr>\n",
       "    <tr>\n",
       "      <th>42509</th>\n",
       "      <td>50003282</td>\n",
       "      <td>34</td>\n",
       "      <td>-4</td>\n",
       "      <td>60.82</td>\n",
       "      <td>60.82</td>\n",
       "      <td>1068.024209</td>\n",
       "    </tr>\n",
       "    <tr>\n",
       "      <th>...</th>\n",
       "      <td>...</td>\n",
       "      <td>...</td>\n",
       "      <td>...</td>\n",
       "      <td>...</td>\n",
       "      <td>...</td>\n",
       "      <td>...</td>\n",
       "    </tr>\n",
       "    <tr>\n",
       "      <th>47500</th>\n",
       "      <td>50652518</td>\n",
       "      <td>38</td>\n",
       "      <td>-32</td>\n",
       "      <td>3022.24</td>\n",
       "      <td>3022.24</td>\n",
       "      <td>4114.803689</td>\n",
       "    </tr>\n",
       "    <tr>\n",
       "      <th>47501</th>\n",
       "      <td>30389300</td>\n",
       "      <td>3</td>\n",
       "      <td>18</td>\n",
       "      <td>936.97</td>\n",
       "      <td>936.97</td>\n",
       "      <td>1068.024209</td>\n",
       "    </tr>\n",
       "    <tr>\n",
       "      <th>47502</th>\n",
       "      <td>50692803</td>\n",
       "      <td>2</td>\n",
       "      <td>-26</td>\n",
       "      <td>15355.80</td>\n",
       "      <td>15355.80</td>\n",
       "      <td>14574.439552</td>\n",
       "    </tr>\n",
       "    <tr>\n",
       "      <th>47503</th>\n",
       "      <td>50998121</td>\n",
       "      <td>6</td>\n",
       "      <td>-38</td>\n",
       "      <td>24168.86</td>\n",
       "      <td>24168.86</td>\n",
       "      <td>20862.453747</td>\n",
       "    </tr>\n",
       "    <tr>\n",
       "      <th>47504</th>\n",
       "      <td>51199929</td>\n",
       "      <td>26</td>\n",
       "      <td>-60</td>\n",
       "      <td>12377.51</td>\n",
       "      <td>12377.51</td>\n",
       "      <td>12444.391299</td>\n",
       "    </tr>\n",
       "  </tbody>\n",
       "</table>\n",
       "<p>5000 rows × 6 columns</p>\n",
       "</div>"
      ],
      "text/plain": [
       "       doc_number  business_code  days_past_duedate  invoice_currency  \\\n",
       "42505    51501891             24                -55          24401.49   \n",
       "42506    51116066             41                -41           2877.69   \n",
       "42507    51041047             38                -46           2884.55   \n",
       "42508    50042257             26                -20          22585.07   \n",
       "42509    50003282             34                 -4             60.82   \n",
       "...           ...            ...                ...               ...   \n",
       "47500    50652518             38                -32           3022.24   \n",
       "47501    30389300              3                 18            936.97   \n",
       "47502    50692803              2                -26          15355.80   \n",
       "47503    50998121              6                -38          24168.86   \n",
       "47504    51199929             26                -60          12377.51   \n",
       "\n",
       "       total_open_amount  pred_first_amount  \n",
       "42505           24401.49       21119.271615  \n",
       "42506            2877.69        3859.971604  \n",
       "42507            2884.55        3859.971604  \n",
       "42508           22585.07       19330.719159  \n",
       "42509              60.82        1068.024209  \n",
       "...                  ...                ...  \n",
       "47500            3022.24        4114.803689  \n",
       "47501             936.97        1068.024209  \n",
       "47502           15355.80       14574.439552  \n",
       "47503           24168.86       20862.453747  \n",
       "47504           12377.51       12444.391299  \n",
       "\n",
       "[5000 rows x 6 columns]"
      ]
     },
     "execution_count": 58,
     "metadata": {},
     "output_type": "execute_result"
    }
   ],
   "source": [
    "df5"
   ]
  },
  {
   "cell_type": "code",
   "execution_count": 59,
   "metadata": {},
   "outputs": [
    {
     "name": "stderr",
     "output_type": "stream",
     "text": [
      "c:\\users\\brai-\\appdata\\local\\programs\\python\\python37\\lib\\site-packages\\pandas\\core\\indexing.py:966: SettingWithCopyWarning: \n",
      "A value is trying to be set on a copy of a slice from a DataFrame.\n",
      "Try using .loc[row_indexer,col_indexer] = value instead\n",
      "\n",
      "See the caveats in the documentation: https://pandas.pydata.org/pandas-docs/stable/user_guide/indexing.html#returning-a-view-versus-a-copy\n",
      "  self.obj[item] = s\n"
     ]
    }
   ],
   "source": [
    "df5.loc[df5['pred_first_amount'] > df5['total_open_amount'] , 'pred_first_amount'] = df5['total_open_amount']"
   ]
  },
  {
   "cell_type": "code",
   "execution_count": 60,
   "metadata": {},
   "outputs": [
    {
     "data": {
      "text/html": [
       "<div>\n",
       "<style scoped>\n",
       "    .dataframe tbody tr th:only-of-type {\n",
       "        vertical-align: middle;\n",
       "    }\n",
       "\n",
       "    .dataframe tbody tr th {\n",
       "        vertical-align: top;\n",
       "    }\n",
       "\n",
       "    .dataframe thead th {\n",
       "        text-align: right;\n",
       "    }\n",
       "</style>\n",
       "<table border=\"1\" class=\"dataframe\">\n",
       "  <thead>\n",
       "    <tr style=\"text-align: right;\">\n",
       "      <th></th>\n",
       "      <th>doc_number</th>\n",
       "      <th>business_code</th>\n",
       "      <th>days_past_duedate</th>\n",
       "      <th>invoice_currency</th>\n",
       "      <th>total_open_amount</th>\n",
       "      <th>pred_first_amount</th>\n",
       "    </tr>\n",
       "  </thead>\n",
       "  <tbody>\n",
       "    <tr>\n",
       "      <th>42505</th>\n",
       "      <td>51501891</td>\n",
       "      <td>24</td>\n",
       "      <td>-55</td>\n",
       "      <td>24401.49</td>\n",
       "      <td>24401.49</td>\n",
       "      <td>21119.271615</td>\n",
       "    </tr>\n",
       "    <tr>\n",
       "      <th>42506</th>\n",
       "      <td>51116066</td>\n",
       "      <td>41</td>\n",
       "      <td>-41</td>\n",
       "      <td>2877.69</td>\n",
       "      <td>2877.69</td>\n",
       "      <td>2877.690000</td>\n",
       "    </tr>\n",
       "    <tr>\n",
       "      <th>42507</th>\n",
       "      <td>51041047</td>\n",
       "      <td>38</td>\n",
       "      <td>-46</td>\n",
       "      <td>2884.55</td>\n",
       "      <td>2884.55</td>\n",
       "      <td>2884.550000</td>\n",
       "    </tr>\n",
       "    <tr>\n",
       "      <th>42508</th>\n",
       "      <td>50042257</td>\n",
       "      <td>26</td>\n",
       "      <td>-20</td>\n",
       "      <td>22585.07</td>\n",
       "      <td>22585.07</td>\n",
       "      <td>19330.719159</td>\n",
       "    </tr>\n",
       "    <tr>\n",
       "      <th>42509</th>\n",
       "      <td>50003282</td>\n",
       "      <td>34</td>\n",
       "      <td>-4</td>\n",
       "      <td>60.82</td>\n",
       "      <td>60.82</td>\n",
       "      <td>60.820000</td>\n",
       "    </tr>\n",
       "    <tr>\n",
       "      <th>...</th>\n",
       "      <td>...</td>\n",
       "      <td>...</td>\n",
       "      <td>...</td>\n",
       "      <td>...</td>\n",
       "      <td>...</td>\n",
       "      <td>...</td>\n",
       "    </tr>\n",
       "    <tr>\n",
       "      <th>47500</th>\n",
       "      <td>50652518</td>\n",
       "      <td>38</td>\n",
       "      <td>-32</td>\n",
       "      <td>3022.24</td>\n",
       "      <td>3022.24</td>\n",
       "      <td>3022.240000</td>\n",
       "    </tr>\n",
       "    <tr>\n",
       "      <th>47501</th>\n",
       "      <td>30389300</td>\n",
       "      <td>3</td>\n",
       "      <td>18</td>\n",
       "      <td>936.97</td>\n",
       "      <td>936.97</td>\n",
       "      <td>936.970000</td>\n",
       "    </tr>\n",
       "    <tr>\n",
       "      <th>47502</th>\n",
       "      <td>50692803</td>\n",
       "      <td>2</td>\n",
       "      <td>-26</td>\n",
       "      <td>15355.80</td>\n",
       "      <td>15355.80</td>\n",
       "      <td>14574.439552</td>\n",
       "    </tr>\n",
       "    <tr>\n",
       "      <th>47503</th>\n",
       "      <td>50998121</td>\n",
       "      <td>6</td>\n",
       "      <td>-38</td>\n",
       "      <td>24168.86</td>\n",
       "      <td>24168.86</td>\n",
       "      <td>20862.453747</td>\n",
       "    </tr>\n",
       "    <tr>\n",
       "      <th>47504</th>\n",
       "      <td>51199929</td>\n",
       "      <td>26</td>\n",
       "      <td>-60</td>\n",
       "      <td>12377.51</td>\n",
       "      <td>12377.51</td>\n",
       "      <td>12377.510000</td>\n",
       "    </tr>\n",
       "  </tbody>\n",
       "</table>\n",
       "<p>5000 rows × 6 columns</p>\n",
       "</div>"
      ],
      "text/plain": [
       "       doc_number  business_code  days_past_duedate  invoice_currency  \\\n",
       "42505    51501891             24                -55          24401.49   \n",
       "42506    51116066             41                -41           2877.69   \n",
       "42507    51041047             38                -46           2884.55   \n",
       "42508    50042257             26                -20          22585.07   \n",
       "42509    50003282             34                 -4             60.82   \n",
       "...           ...            ...                ...               ...   \n",
       "47500    50652518             38                -32           3022.24   \n",
       "47501    30389300              3                 18            936.97   \n",
       "47502    50692803              2                -26          15355.80   \n",
       "47503    50998121              6                -38          24168.86   \n",
       "47504    51199929             26                -60          12377.51   \n",
       "\n",
       "       total_open_amount  pred_first_amount  \n",
       "42505           24401.49       21119.271615  \n",
       "42506            2877.69        2877.690000  \n",
       "42507            2884.55        2884.550000  \n",
       "42508           22585.07       19330.719159  \n",
       "42509              60.82          60.820000  \n",
       "...                  ...                ...  \n",
       "47500            3022.24        3022.240000  \n",
       "47501             936.97         936.970000  \n",
       "47502           15355.80       14574.439552  \n",
       "47503           24168.86       20862.453747  \n",
       "47504           12377.51       12377.510000  \n",
       "\n",
       "[5000 rows x 6 columns]"
      ]
     },
     "execution_count": 60,
     "metadata": {},
     "output_type": "execute_result"
    }
   ],
   "source": [
    "df5"
   ]
  },
  {
   "cell_type": "code",
   "execution_count": 61,
   "metadata": {},
   "outputs": [
    {
     "name": "stderr",
     "output_type": "stream",
     "text": [
      "c:\\users\\brai-\\appdata\\local\\programs\\python\\python37\\lib\\site-packages\\pandas\\core\\indexing.py:845: SettingWithCopyWarning: \n",
      "A value is trying to be set on a copy of a slice from a DataFrame.\n",
      "Try using .loc[row_indexer,col_indexer] = value instead\n",
      "\n",
      "See the caveats in the documentation: https://pandas.pydata.org/pandas-docs/stable/user_guide/indexing.html#returning-a-view-versus-a-copy\n",
      "  self.obj[key] = _infer_fill_value(value)\n",
      "c:\\users\\brai-\\appdata\\local\\programs\\python\\python37\\lib\\site-packages\\pandas\\core\\indexing.py:966: SettingWithCopyWarning: \n",
      "A value is trying to be set on a copy of a slice from a DataFrame.\n",
      "Try using .loc[row_indexer,col_indexer] = value instead\n",
      "\n",
      "See the caveats in the documentation: https://pandas.pydata.org/pandas-docs/stable/user_guide/indexing.html#returning-a-view-versus-a-copy\n",
      "  self.obj[item] = s\n"
     ]
    }
   ],
   "source": [
    "df5.loc[df5['pred_first_amount'] < df5['total_open_amount'] , 'invoice_type'] = 'partailly paid'\n",
    "df5.loc[df5['pred_first_amount'] == df5['total_open_amount'] , 'invoice_type'] = 'fully paid'"
   ]
  },
  {
   "cell_type": "code",
   "execution_count": 62,
   "metadata": {},
   "outputs": [
    {
     "data": {
      "text/html": [
       "<div>\n",
       "<style scoped>\n",
       "    .dataframe tbody tr th:only-of-type {\n",
       "        vertical-align: middle;\n",
       "    }\n",
       "\n",
       "    .dataframe tbody tr th {\n",
       "        vertical-align: top;\n",
       "    }\n",
       "\n",
       "    .dataframe thead th {\n",
       "        text-align: right;\n",
       "    }\n",
       "</style>\n",
       "<table border=\"1\" class=\"dataframe\">\n",
       "  <thead>\n",
       "    <tr style=\"text-align: right;\">\n",
       "      <th></th>\n",
       "      <th>doc_number</th>\n",
       "      <th>business_code</th>\n",
       "      <th>days_past_duedate</th>\n",
       "      <th>invoice_currency</th>\n",
       "      <th>total_open_amount</th>\n",
       "      <th>pred_first_amount</th>\n",
       "      <th>invoice_type</th>\n",
       "    </tr>\n",
       "  </thead>\n",
       "  <tbody>\n",
       "    <tr>\n",
       "      <th>42505</th>\n",
       "      <td>51501891</td>\n",
       "      <td>24</td>\n",
       "      <td>-55</td>\n",
       "      <td>24401.49</td>\n",
       "      <td>24401.49</td>\n",
       "      <td>21119.271615</td>\n",
       "      <td>partailly paid</td>\n",
       "    </tr>\n",
       "    <tr>\n",
       "      <th>42506</th>\n",
       "      <td>51116066</td>\n",
       "      <td>41</td>\n",
       "      <td>-41</td>\n",
       "      <td>2877.69</td>\n",
       "      <td>2877.69</td>\n",
       "      <td>2877.690000</td>\n",
       "      <td>fully paid</td>\n",
       "    </tr>\n",
       "    <tr>\n",
       "      <th>42507</th>\n",
       "      <td>51041047</td>\n",
       "      <td>38</td>\n",
       "      <td>-46</td>\n",
       "      <td>2884.55</td>\n",
       "      <td>2884.55</td>\n",
       "      <td>2884.550000</td>\n",
       "      <td>fully paid</td>\n",
       "    </tr>\n",
       "    <tr>\n",
       "      <th>42508</th>\n",
       "      <td>50042257</td>\n",
       "      <td>26</td>\n",
       "      <td>-20</td>\n",
       "      <td>22585.07</td>\n",
       "      <td>22585.07</td>\n",
       "      <td>19330.719159</td>\n",
       "      <td>partailly paid</td>\n",
       "    </tr>\n",
       "    <tr>\n",
       "      <th>42509</th>\n",
       "      <td>50003282</td>\n",
       "      <td>34</td>\n",
       "      <td>-4</td>\n",
       "      <td>60.82</td>\n",
       "      <td>60.82</td>\n",
       "      <td>60.820000</td>\n",
       "      <td>fully paid</td>\n",
       "    </tr>\n",
       "    <tr>\n",
       "      <th>...</th>\n",
       "      <td>...</td>\n",
       "      <td>...</td>\n",
       "      <td>...</td>\n",
       "      <td>...</td>\n",
       "      <td>...</td>\n",
       "      <td>...</td>\n",
       "      <td>...</td>\n",
       "    </tr>\n",
       "    <tr>\n",
       "      <th>47500</th>\n",
       "      <td>50652518</td>\n",
       "      <td>38</td>\n",
       "      <td>-32</td>\n",
       "      <td>3022.24</td>\n",
       "      <td>3022.24</td>\n",
       "      <td>3022.240000</td>\n",
       "      <td>fully paid</td>\n",
       "    </tr>\n",
       "    <tr>\n",
       "      <th>47501</th>\n",
       "      <td>30389300</td>\n",
       "      <td>3</td>\n",
       "      <td>18</td>\n",
       "      <td>936.97</td>\n",
       "      <td>936.97</td>\n",
       "      <td>936.970000</td>\n",
       "      <td>fully paid</td>\n",
       "    </tr>\n",
       "    <tr>\n",
       "      <th>47502</th>\n",
       "      <td>50692803</td>\n",
       "      <td>2</td>\n",
       "      <td>-26</td>\n",
       "      <td>15355.80</td>\n",
       "      <td>15355.80</td>\n",
       "      <td>14574.439552</td>\n",
       "      <td>partailly paid</td>\n",
       "    </tr>\n",
       "    <tr>\n",
       "      <th>47503</th>\n",
       "      <td>50998121</td>\n",
       "      <td>6</td>\n",
       "      <td>-38</td>\n",
       "      <td>24168.86</td>\n",
       "      <td>24168.86</td>\n",
       "      <td>20862.453747</td>\n",
       "      <td>partailly paid</td>\n",
       "    </tr>\n",
       "    <tr>\n",
       "      <th>47504</th>\n",
       "      <td>51199929</td>\n",
       "      <td>26</td>\n",
       "      <td>-60</td>\n",
       "      <td>12377.51</td>\n",
       "      <td>12377.51</td>\n",
       "      <td>12377.510000</td>\n",
       "      <td>fully paid</td>\n",
       "    </tr>\n",
       "  </tbody>\n",
       "</table>\n",
       "<p>5000 rows × 7 columns</p>\n",
       "</div>"
      ],
      "text/plain": [
       "       doc_number  business_code  days_past_duedate  invoice_currency  \\\n",
       "42505    51501891             24                -55          24401.49   \n",
       "42506    51116066             41                -41           2877.69   \n",
       "42507    51041047             38                -46           2884.55   \n",
       "42508    50042257             26                -20          22585.07   \n",
       "42509    50003282             34                 -4             60.82   \n",
       "...           ...            ...                ...               ...   \n",
       "47500    50652518             38                -32           3022.24   \n",
       "47501    30389300              3                 18            936.97   \n",
       "47502    50692803              2                -26          15355.80   \n",
       "47503    50998121              6                -38          24168.86   \n",
       "47504    51199929             26                -60          12377.51   \n",
       "\n",
       "       total_open_amount  pred_first_amount    invoice_type  \n",
       "42505           24401.49       21119.271615  partailly paid  \n",
       "42506            2877.69        2877.690000      fully paid  \n",
       "42507            2884.55        2884.550000      fully paid  \n",
       "42508           22585.07       19330.719159  partailly paid  \n",
       "42509              60.82          60.820000      fully paid  \n",
       "...                  ...                ...             ...  \n",
       "47500            3022.24        3022.240000      fully paid  \n",
       "47501             936.97         936.970000      fully paid  \n",
       "47502           15355.80       14574.439552  partailly paid  \n",
       "47503           24168.86       20862.453747  partailly paid  \n",
       "47504           12377.51       12377.510000      fully paid  \n",
       "\n",
       "[5000 rows x 7 columns]"
      ]
     },
     "execution_count": 62,
     "metadata": {},
     "output_type": "execute_result"
    }
   ],
   "source": [
    "df5"
   ]
  },
  {
   "cell_type": "code",
   "execution_count": null,
   "metadata": {},
   "outputs": [],
   "source": []
  },
  {
   "cell_type": "code",
   "execution_count": null,
   "metadata": {},
   "outputs": [],
   "source": []
  }
 ],
 "metadata": {
  "kernelspec": {
   "display_name": "Python 3",
   "language": "python",
   "name": "python3"
  },
  "language_info": {
   "codemirror_mode": {
    "name": "ipython",
    "version": 3
   },
   "file_extension": ".py",
   "mimetype": "text/x-python",
   "name": "python",
   "nbconvert_exporter": "python",
   "pygments_lexer": "ipython3",
   "version": "3.7.7"
  }
 },
 "nbformat": 4,
 "nbformat_minor": 4
}
